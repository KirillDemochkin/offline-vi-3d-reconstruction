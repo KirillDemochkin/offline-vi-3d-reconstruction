{
  "nbformat": 4,
  "nbformat_minor": 0,
  "metadata": {
    "colab": {
      "name": "GTSAM.ipynb",
      "provenance": [],
      "collapsed_sections": []
    },
    "kernelspec": {
      "name": "python3",
      "display_name": "Python 3"
    },
    "accelerator": "GPU"
  },
  "cells": [
    {
      "cell_type": "code",
      "metadata": {
        "id": "ZynhMJJDytbl",
        "colab_type": "code",
        "outputId": "dfb28694-1012-4d11-bdda-28ec98b0670b",
        "colab": {
          "base_uri": "https://localhost:8080/",
          "height": 85
        }
      },
      "source": [
        "!pip install gtsam"
      ],
      "execution_count": 13,
      "outputs": [
        {
          "output_type": "stream",
          "text": [
            "Requirement already satisfied: gtsam in /usr/local/lib/python3.6/dist-packages (4.0.2)\n",
            "Requirement already satisfied: Cython>=0.25.2 in /usr/local/lib/python3.6/dist-packages (from gtsam) (0.29.15)\n",
            "Requirement already satisfied: numpy>=1.12.0 in /usr/local/lib/python3.6/dist-packages (from gtsam) (1.18.2)\n",
            "Requirement already satisfied: backports-abc>=0.5 in /usr/local/lib/python3.6/dist-packages (from gtsam) (0.5)\n"
          ],
          "name": "stdout"
        }
      ]
    },
    {
      "cell_type": "code",
      "metadata": {
        "id": "NOysLpZkeD-r",
        "colab_type": "code",
        "colab": {}
      },
      "source": [
        "import gtsam\n",
        "from pathlib import Path\n",
        "import numpy as np\n",
        "from gtsam.utils.plot import plot_pose3\n",
        "import math\n",
        "import matplotlib.pyplot as plt\n",
        "import argparse\n",
        "from mpl_toolkits.mplot3d import Axes3D\n",
        "# from measurements_reader import MARSMeasurementsReader"
      ],
      "execution_count": 0,
      "outputs": []
    },
    {
      "cell_type": "code",
      "metadata": {
        "id": "jafeoqadeImQ",
        "colab_type": "code",
        "colab": {}
      },
      "source": [
        "NANOSECONDS_IN_SECOND = 10**9\n",
        "\n",
        "class MARSMeasurementsReader:\n",
        "    \"\"\"\n",
        "    Reads measurements coming from the 'MARS logger' app.\n",
        "    Currently, doesn't include images ('movie.mp4').\n",
        "    \"\"\"\n",
        "    def __init__(self, path):\n",
        "        \"\"\"\n",
        "        path:\n",
        "            pathlib.Path or str\n",
        "            A directory with 'frame_timestamps.txt', 'gyro_accel.csv', 'movie_metadata.csv', 'movie.mp4'.\n",
        "        \"\"\"\n",
        "        path = Path(path)\n",
        "\n",
        "        ##############################       Read IMU data       ##############################\n",
        "\n",
        "        dtype = np.dtype([\n",
        "            ('time', np.int64),\n",
        "            ('Wx', np.float64),\n",
        "            ('Wy', np.float64),\n",
        "            ('Wz', np.float64),\n",
        "            ('Ax', np.float64),\n",
        "            ('Ay', np.float64),\n",
        "            ('Az', np.float64),\n",
        "        ])\n",
        "        IMU_data = np.loadtxt(path / \"gyro_accel.csv\", dtype=dtype, delimiter=',', skiprows=1)\n",
        "\n",
        "        # Time in nanoseconds\n",
        "        self.timestamps_IMU = IMU_data['time']\n",
        "        # Acceleration along x,y,z (in body frame) in m/s^2\n",
        "        ax = np.asarray(IMU_data['Ax']).reshape(len(IMU_data), 1)\n",
        "        ay = np.asarray(IMU_data['Ay']).reshape(len(IMU_data), 1)\n",
        "        az = np.asarray(IMU_data['Az']).reshape(len(IMU_data), 1)\n",
        "        conc = np.concatenate((ax, ay,az), axis=1)\n",
        "        self.accelerometer = conc\n",
        "        # self.accelerometer  = IMU_data[['Ax', 'Ay', 'Az']].view(dtype=np.float64).reshape(len(IMU_data), 3)\n",
        "        # Angular velocity around x,y,z (in body frame) in rad/s\n",
        "        # self.gyroscope      = IMU_data[['Wx', 'Wy', 'Wz']].reshape(len(IMU_data), 3)\n",
        "        wx = np.asarray(IMU_data['Wx']).reshape(len(IMU_data), 1)\n",
        "        wy = np.asarray(IMU_data['Wy']).reshape(len(IMU_data), 1)\n",
        "        wz = np.asarray(IMU_data['Wz']).reshape(len(IMU_data), 1)\n",
        "        concw = np.concatenate((wx, wy, wz), axis=1)\n",
        "        self.gyroscope = concw\n",
        "        self.imu_measurements = np.concatenate((self.accelerometer, self.gyroscope), axis=1)\n",
        "        ##############################     Read image metadata     ##############################\n",
        "\n",
        "        dtype = np.dtype([\n",
        "            ('time', np.int64),\n",
        "            ('fx', np.float64),\n",
        "            ('fy', np.float64),\n",
        "            ('focal_length', np.float64),\n",
        "            ('focus_distance', np.float64),\n",
        "        ])\n",
        "        camera_data = np.loadtxt(path / \"movie_metadata.csv\", dtype=dtype, delimiter=',', skiprows=1, usecols=(0,1,2,8,9))\n",
        "\n",
        "        # Time in nanoseconds (consistent with `self.timestamps_IMU`)\n",
        "        self.timestamps_camera = camera_data['time']\n",
        "\n",
        "    def get_dt_IMU(self, i):\n",
        "        \"\"\"\n",
        "        i:\n",
        "            int\n",
        "            Index of the IMU measurement in `self.timestamps_IMU`.\n",
        "\n",
        "        return:\n",
        "            float\n",
        "            Time in seconds between i-th and (i+1)-th IMU measurements\n",
        "        \"\"\"\n",
        "        if i > len(self.timestamps_IMU) - 2 or i < 0:\n",
        "            return 1e-16\n",
        "        else:\n",
        "            return (self.timestamps_IMU[i+1] - self.timestamps_IMU[i]) / NANOSECONDS_IN_SECOND\n"
      ],
      "execution_count": 0,
      "outputs": []
    },
    {
      "cell_type": "code",
      "metadata": {
        "id": "5BJMhlpCpFgV",
        "colab_type": "code",
        "outputId": "ce1b5f34-2b99-4481-9a05-d9e5a89c0584",
        "colab": {
          "base_uri": "https://localhost:8080/",
          "height": 122
        }
      },
      "source": [
        "from google.colab import drive\n",
        "drive.mount('/content/drive')"
      ],
      "execution_count": 7,
      "outputs": [
        {
          "output_type": "stream",
          "text": [
            "Go to this URL in a browser: https://accounts.google.com/o/oauth2/auth?client_id=947318989803-6bn6qk8qdgf4n4g3pfee6491hc0brc4i.apps.googleusercontent.com&redirect_uri=urn%3aietf%3awg%3aoauth%3a2.0%3aoob&response_type=code&scope=email%20https%3a%2f%2fwww.googleapis.com%2fauth%2fdocs.test%20https%3a%2f%2fwww.googleapis.com%2fauth%2fdrive%20https%3a%2f%2fwww.googleapis.com%2fauth%2fdrive.photos.readonly%20https%3a%2f%2fwww.googleapis.com%2fauth%2fpeopleapi.readonly\n",
            "\n",
            "Enter your authorization code:\n",
            "··········\n",
            "Mounted at /content/drive\n"
          ],
          "name": "stdout"
        }
      ]
    },
    {
      "cell_type": "code",
      "metadata": {
        "id": "tjULjIdPpSrk",
        "colab_type": "code",
        "colab": {}
      },
      "source": [
        "path = '/content/drive/My Drive/robotics/'"
      ],
      "execution_count": 0,
      "outputs": []
    },
    {
      "cell_type": "code",
      "metadata": {
        "id": "vCP37NA2nveb",
        "colab_type": "code",
        "colab": {}
      },
      "source": [
        "def initial_estimation(accelerations):\n",
        "    acc_avg = np.squeeze(np.mean(accelerations, axis=0))\n",
        "    gravity_vec = np.zeros_like(acc_avg)\n",
        "    gravity_vec[2] = 1\n",
        "    av_vector = (acc_avg + gravity_vec)/2\n",
        "    W = np.array([[0, -av_vector[2], av_vector[1]],\n",
        "                  [av_vector[1], 0, -av_vector[0]],\n",
        "                  [-av_vector[1], av_vector[0], 0]])\n",
        "    rot_matrix = np.eye(3) + np.sin(np.pi)*W + 2*np.sin(np.pi/2)**2*np.power(W, 2)\n",
        "    #init_att = gtsam.Rot3.Rodrigues(av_vector, 180)\n",
        "    init_att = gtsam.Rot3(rot_matrix)\n",
        "    init_pose = gtsam.Pose3(init_att, gtsam.Point3())\n",
        "    #aligned_gravity = initial_pose * acc_avg\n",
        "    return init_pose"
      ],
      "execution_count": 0,
      "outputs": []
    },
    {
      "cell_type": "code",
      "metadata": {
        "id": "YpZ8HHW9i70H",
        "colab_type": "code",
        "colab": {}
      },
      "source": [
        "# parser = argparse.ArgumentParser()\n",
        "# parser.add_argument('--path', type=str, default = 'C:/Users/Polinka/PycharmProjects/sample_data')\n",
        "# args = parser.parse_args()\n",
        "reader = MARSMeasurementsReader(path)\n",
        "accelerometer = reader.accelerometer\n",
        "gyroscope = reader.gyroscope\n",
        "imu_m = reader.imu_measurements\n",
        "# imu_measurements, _, _, true_poses = np.load('circle_gold.npy',allow_pickle=True)\n",
        "##############################   Algorithm parameters   ############################\n",
        "params = argparse.Namespace()\n",
        "    # Time step length.\n",
        "    # In real world, it will be different at each measurement,\n",
        "    # and you'll have to take dtᵢ from data.\n",
        "params.dt = [reader.get_dt_IMU(i) for i in range(len(reader.timestamps_IMU))]\n",
        "    # params.dt = 1e-2\n",
        "        \n",
        "    # IMU bias\n",
        "params.accelerometer_bias = np.array([0, 0.1, 0])\n",
        "params.gyroscope_bias = np.array([0, 0, 0])\n",
        "params.IMU_bias = gtsam.imuBias_ConstantBias(params.accelerometer_bias, params.gyroscope_bias)\n",
        "   \n",
        "    # 'circle_gold.npy' simulates a loop with forward velocity 2 m/s,\n",
        "    # while pitching up with angular velocity 30 degrees/sec.\n",
        "params.initial_velocity = np.array([0, 0, 0])\n",
        "params.initial_angular_vel = np.array([0, -math.radians(30), 0]) # not used here\n",
        "params.initial_pose = initial_estimation(accelerometer)\n",
        "\n",
        "params.initial_state = gtsam.NavState(params.initial_pose, params.initial_velocity)\n",
        "\n",
        "    # IMU preintegration algorithm parameters\n",
        "    # \"U\" means \"Z axis points up\"; \"MakeSharedD\" would mean \"Z axis points along the gravity\" \n",
        "preintegration_params = gtsam.PreintegrationParams.MakeSharedU(9.81) # 10 is the gravity force\n",
        "    # Realistic noise parameters\n",
        "kGyroSigma = math.radians(0.5) / 60  # 0.5 degree ARW\n",
        "kAccelSigma = 0.1 / 60  # 10 cm VRW\n",
        "preintegration_params.setGyroscopeCovariance(kGyroSigma ** 2 * np.identity(3, np.float))\n",
        "preintegration_params.setAccelerometerCovariance(kAccelSigma ** 2 * np.identity(3, np.float))\n",
        "preintegration_params.setIntegrationCovariance(0.0000001 ** 2 * np.identity(3, np.float))\n",
        "params.preintegration_params = preintegration_params\n",
        "    # The stateful class that is responsible for preintegration\n",
        "current_preintegrated_IMU = gtsam.PreintegratedImuMeasurements(params.preintegration_params, params.IMU_bias)\n",
        "\n",
        "    # The certainty (covariance) of the initial position estimate\n",
        "    # \"Isotropic\" means diagonal with equal sigmas\n",
        "params.initial_pose_covariance = gtsam.noiseModel_Isotropic.Sigma(6, 0.1)\n",
        "params.initial_velocity_covariance = gtsam.noiseModel_Isotropic.Sigma(3, 0.1)\n",
        "\n",
        "    ###############################    Build the factor graph   ####################################\n",
        "    \n",
        "factor_graph = gtsam.NonlinearFactorGraph()\n",
        "    # A technical hack for defining variable names in GTSAM python bindings\n",
        "def symbol(letter, index): return int(gtsam.symbol(ord(letter), index))\n",
        "\n",
        "    # Add a prior factor on the initial position\n",
        "factor_graph.push_back(gtsam.PriorFactorPose3(symbol('x', 0), params.initial_pose, params.initial_pose_covariance))\n",
        "factor_graph.push_back(gtsam.PriorFactorVector(symbol('v', 0), params.initial_velocity, params.initial_velocity_covariance))\n",
        "#factor_graph.push_back(gtsam.PriorFactorVector(symbol('v', 0), params.initial_velocity, params.initial_velocity_covariance))\n",
        "    # Add IMU factors (or \"motion model\"/\"transition\" factors).\n",
        "    # Ideally, we would add factors between every pair (xᵢ₋₁, xᵢ). But, to save computations,\n",
        "    # we will add factors between pairs (x₀, xₖ), (xₖ, x₂ₖ) etc., and as an IMU \"measurement\"\n",
        "    # between e.g. x₀ and xₖ we will use combined (pre-integrated) measurements `0, 1, ..., k-1`.\n",
        "    # Below, `k == PREINTEGRATE_EVERY_STEPS`.\n",
        "PREINTEGRATE_EVERY_STEPS = 25\n",
        "\n",
        "    # For code generalization, create pairs (0, k), (k, 2k), (2k, 3k), ..., (mk, N-1)\n",
        "preintegration_steps = list(range(0, len(imu_m), PREINTEGRATE_EVERY_STEPS))\n",
        "if preintegration_steps[-1] != len(imu_m) - 1: # don't miss the last measurements\n",
        "  preintegration_steps.append(len(imu_m) - 1)\n",
        "    # An iterator over those pairs\n",
        "imu_factor_pairs = zip(preintegration_steps[:-1], preintegration_steps[1:])\n",
        "current_imu_factor_pair = next(imu_factor_pairs)\n",
        "\n",
        "    # Clear the accumulated value\n",
        "current_preintegrated_IMU.resetIntegration()\n",
        "\n",
        "for i, imu_measurement in enumerate(imu_m):\n",
        "    measured_acceleration, measured_angular_vel = imu_m[:3], imu_m[3:]\n",
        "\n",
        "    if i == current_imu_factor_pair[1]:\n",
        "            # Add IMU factor\n",
        "        factor = gtsam.ImuFactor(\n",
        "        symbol('x', current_imu_factor_pair[0]),\n",
        "        symbol('v', current_imu_factor_pair[0]),\n",
        "        symbol('x', current_imu_factor_pair[1]),\n",
        "        symbol('v', current_imu_factor_pair[1]),\n",
        "        symbol('b', 0),\n",
        "        current_preintegrated_IMU)\n",
        "        factor_graph.push_back(factor)\n",
        "            \n",
        "            # Start accumulating from scratch\n",
        "        current_preintegrated_IMU.resetIntegration()\n",
        "\n",
        "            # Get the next pair of indices\n",
        "        try:\n",
        "            current_imu_factor_pair = next(imu_factor_pairs)\n",
        "        except StopIteration:\n",
        "            assert i == len(imu_m) - 1\n",
        "\n",
        "    # Accumulate the current measurement\n",
        "    current_preintegrated_IMU.integrateMeasurement(measured_acceleration, measured_angular_vel, params.dt[i])\n",
        "\n",
        "    ############################# Specify initial values for optimization #################################\n",
        "\n",
        "    # The optimization will start from these initial values of our target variables:\n",
        "    initial_values = gtsam.Values()\n",
        "\n",
        "    # The initial value for IMU bias\n",
        "    initial_values.insert(symbol('b', 0), params.IMU_bias)\n",
        "\n",
        "\n",
        "    # The initial values for coordinates (x) and velocities (v), estimated by IMU preintegration.\n",
        "    # Note that our variables are only for those steps that have been chosen into `preintegration_steps`.\n",
        "    preintegration_steps_set = set(preintegration_steps)\n",
        "    # Clear the accumulated value from the previous code section\n",
        "    current_preintegrated_IMU.resetIntegration()\n",
        "\n",
        "    for i, imu_measurement in enumerate(imu_m):\n",
        "        if i in preintegration_steps_set:\n",
        "            predicted_nav_state = current_preintegrated_IMU.predict(params.initial_state, params.IMU_bias)\n",
        "            initial_values.insert(symbol('x', i), predicted_nav_state.pose())\n",
        "            initial_values.insert(symbol('v', i), predicted_nav_state.velocity())\n",
        "\n",
        "        current_preintegrated_IMU.integrateMeasurement(imu_m[i, :3], imu_m[i, 3:], params.dt[i])\n"
      ],
      "execution_count": 0,
      "outputs": []
    },
    {
      "cell_type": "code",
      "metadata": {
        "id": "sbLxE4rcrm46",
        "colab_type": "code",
        "outputId": "a1ba5e2a-4eeb-4037-924c-2d6422d5af4f",
        "colab": {
          "base_uri": "https://localhost:8080/",
          "height": 277
        }
      },
      "source": [
        " ###############################    Optimize the factor graph   ####################################\n",
        "\n",
        "# Use the Levenberg-Marquardt algorithm\n",
        "#optimization_params = gtsam.LevenbergMarquardtParams()\n",
        "#optimization_params.setVerbosityLM(\"SUMMARY\")\n",
        "#optimizer = gtsam.LevenbergMarquardtOptimizer(factor_graph, initial_values, optimization_params)\n",
        "#optimization_result = optimizer.optimize()\n",
        "\n",
        "\n",
        "    ###############################        Plot the solution       ####################################\n",
        "\n",
        "for i in preintegration_steps:\n",
        "     # Ground truth pose\n",
        "    # plot_pose3(1, gtsam.Pose3(true_poses[i]), 0.3)\n",
        "    # Estimated pose\n",
        "    plot_pose3(1, initial_values.atPose3(symbol('x', i)), 0.1)\n",
        "#fig = plt.figure(figsize=(8, 8))\n",
        "ax = plt.gca()\n",
        "#ax.set_xlim3d(-100, 100)\n",
        "#ax.set_ylim3d(-100, 100)\n",
        "#ax.set_zlim3d(-100, 100)\n",
        "ax.set_xlabel('x')\n",
        "ax.set_ylabel('y')\n",
        "ax.set_zlabel('z')\n",
        "plt.figure(1).suptitle(\"small poses: estimate\")\n",
        "\n",
        "plt.ioff()\n",
        "plt.show()"
      ],
      "execution_count": 31,
      "outputs": [
        {
          "output_type": "display_data",
          "data": {
            "image/png": "[encoded data removed]",
            "text/plain": [
              "<Figure size 432x288 with 1 Axes>"
            ]
          },
          "metadata": {
            "tags": []
          }
        }
      ]
    },
    {
      "cell_type": "code",
      "metadata": {
        "id": "eRUOQMZn0pPn",
        "colab_type": "code",
        "outputId": "739be2c6-067f-4791-8741-f1d39cae2ee4",
        "colab": {
          "base_uri": "https://localhost:8080/",
          "height": 136
        }
      },
      "source": [
        "optimization_result.atPose3(symbol('x', 0))"
      ],
      "execution_count": 43,
      "outputs": [
        {
          "output_type": "execute_result",
          "data": {
            "text/plain": [
              "R:\n",
              "[\n",
              " \t           1 -2.50428e-20 -9.76404e-18;\n",
              "    \t 1.61267e-16            1 -1.25138e-16;\n",
              "    \t-7.85439e-20 -8.72363e-20            1\n",
              "  ]\n",
              "[-1.12772e-22, -2.5349e-23, -6.97238e-24]';"
            ]
          },
          "metadata": {
            "tags": []
          },
          "execution_count": 43
        }
      ]
    },
    {
      "cell_type": "code",
      "metadata": {
        "id": "xGgl-gQ6rnqb",
        "colab_type": "code",
        "colab": {
          "base_uri": "https://localhost:8080/",
          "height": 34
        },
        "outputId": "d01064b9-69ab-490f-d456-61a2af7067a7"
      },
      "source": [
        "np.sum([reader.get_dt_IMU(i) for i in range(len(reader.accelerometer))])"
      ],
      "execution_count": 45,
      "outputs": [
        {
          "output_type": "execute_result",
          "data": {
            "text/plain": [
              "13.369999999999997"
            ]
          },
          "metadata": {
            "tags": []
          },
          "execution_count": 45
        }
      ]
    }
  ]
}